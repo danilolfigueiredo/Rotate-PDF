{
 "cells": [
  {
   "cell_type": "code",
   "execution_count": 9,
   "id": "7b195475",
   "metadata": {},
   "outputs": [],
   "source": [
    "from PyPDF2 import PdfFileReader, PdfFileWriter\n",
    "from os import listdir\n",
    "\n",
    "input_dir = \"C:\\\\pdf\\\\\"\n",
    "output_dir = \"C:\\\\output_pdf\\\\\"\n",
    "\n",
    "for x in listdir(input_dir):\n",
    "    if not x.endswith('.pdf'):\n",
    "        continue\n",
    "    pdf_in = open(input_dir + x, 'rb')\n",
    "    pdf_reader = PdfFileReader(pdf_in)\n",
    "    pdf_writer = PdfFileWriter()\n",
    "    for pagenum in range(pdf_reader.numPages):\n",
    "        page = pdf_reader.getPage(pagenum)\n",
    "        page.rotateClockwise(270)\n",
    "        pdf_writer.addPage(page)\n",
    "    pdf_out = open(output_dir + x, 'wb')\n",
    "    pdf_writer.write(pdf_out)\n",
    "    pdf_out.close()\n",
    "    pdf_in.close()"
   ]
  }
 ],
 "metadata": {
  "kernelspec": {
   "display_name": "Python 3 (ipykernel)",
   "language": "python",
   "name": "python3"
  },
  "language_info": {
   "codemirror_mode": {
    "name": "ipython",
    "version": 3
   },
   "file_extension": ".py",
   "mimetype": "text/x-python",
   "name": "python",
   "nbconvert_exporter": "python",
   "pygments_lexer": "ipython3",
   "version": "3.9.7"
  }
 },
 "nbformat": 4,
 "nbformat_minor": 5
}
